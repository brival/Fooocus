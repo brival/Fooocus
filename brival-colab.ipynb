{
 "cells": [
  {
   "cell_type": "code",
   "execution_count": null,
   "metadata": {},
   "outputs": [],
   "source": [
    "import os\n",
    "\n",
    "# Instalar pygit2\n",
    "!pip install pygit2==1.12.2\n",
    "\n",
    "# Cambiar al directorio de trabajo en Google Drive\n",
    "from google.colab import drive\n",
    "drive.mount('/content/drive')\n",
    "\n",
    "# Cambiar al directorio de trabajo en Google Drive\n",
    "%cd '/content/drive/My Drive'\n",
    "\n",
    "# Verificar si el repositorio ya está clonado\n",
    "repo_path = \"/content/drive/My Drive/Fooocus\"\n",
    "if not os.path.exists(repo_path):\n",
    "    # Si el repositorio no está clonado, clonarlo\n",
    "    !git clone https://github.com/brival/Fooocus.git\n",
    "\n",
    "# Cambiar al directorio del repositorio\n",
    "%cd $repo_path\n",
    "\n",
    "# Cambiar a la rama develop y obtener los cambios\n",
    "#!git config pull.rebase false\n",
    "#!git status\n",
    "!git checkout develop\n",
    "!git pull origin develop\n",
    "\n",
    "# Definir la clave de la API de Civitai\n",
    "CIVITIA_API_KEY = '05e2aa902893d40d2ea7b538917738f6'\n",
    "\n",
    "# Función para descargar archivos solo si no existen\n",
    "def download_file(url, destination):\n",
    "    if not os.path.exists(destination):\n",
    "        !wget --show-progress -O \"{destination}\" \"{url}\"\n",
    "\n",
    "# Descargar los archivos solo si no existen\n",
    "download_file(\"https://civitai.com/api/download/models/395729?type=Model&format=SafeTensor&token=05e2aa902893d40d2ea7b538917738f6\", '/content/drive/My Drive/Fooocus/models/checkpoints/afroditexl-nude-people-photography.safetensors')\n",
    "#download_file(\"https://civitai.com/api/download/models/300972?type=Model&format=PickleTensor&size=full&fp=fp32&token=05e2aa902893d40d2ea7b538917738f6\", '/content/drive/My Drive/Fooocus/models/checkpoints/lazymix-real-amateur-nudes.ckpt')\n",
    "download_file(\"https://civitai.com/api/download/models/40391?type=Model&format=SafeTensor&token=05e2aa902893d40d2ea7b538917738f6\", '/content/drive/My Drive/Fooocus/models/loras/ms-real-ass-on-side-lora.safetensors')\n",
    "#Ultimate Instagram Influencer\n",
    "download_file(\"https://civitai.com/api/download/models/253013?type=Model&format=SafeTensor&token=05e2aa902893d40d2ea7b538917738f6\", '/content/drive/My Drive/Fooocus/models/loras/IGInfluencer_V1.safetensors')\n",
    "##Realistic Vision V6.0 B1\n",
    "download_file(\"https://civitai.com/api/download/models/130072?type=Model&format=SafeTensor&size=full&fp=fp16&token=05e2aa902893d40d2ea7b538917738f6\", '/content/drive/My Drive/Fooocus/models/checkpoints/realisticVisionV60B1_v51VAE.safetensors')\n",
    "\n",
    "#Maria\n",
    "download_file(\"https://civitai.com/api/download/models/222340?type=Model&format=SafeTensor&token=05e2aa902893d40d2ea7b538917738f6\", '/content/drive/My Drive/Fooocus/models/loras/Maria.safetensors')\n",
    "\n",
    "#juggernautXL_v9Rdphoto2Lightning\n",
    "download_file(\"https://civitai.com/api/download/models/357609?type=Model&format=SafeTensor&size=full&fp=fp16&token=05e2aa902893d40d2ea7b538917738f6\", '/content/drive/My Drive/Fooocus/models/checkpoints/juggernautXL_v9Rdphoto2Lightning.safetensors')\n",
    "\n",
    "#JS_TattooGirl\n",
    "download_file(\"https://civitai.com/api/download/models/316069?type=Model&format=SafeTensor&token=05e2aa902893d40d2ea7b538917738f6\", '/content/drive/My Drive/Fooocus/models/loras/JS_TattooGirl.safetensors')\n",
    "\n",
    "#epicphotogasm_amateurreallife\n",
    "download_file(\"https://civitai.com/api/download/models/363565?type=Model&format=SafeTensor&size=pruned&fp=fp16&token=05e2aa902893d40d2ea7b538917738f6\", '/content/drive/My Drive/Fooocus/models/checkpoints/epicphotogasm_amateurreallife.safetensors')\n",
    "\n",
    "#epicphotogasm_lastUnicorn\n",
    "download_file(\"https://civitai.com/api/download/models/223670?type=Model&format=SafeTensor&size=pruned&fp=fp16&token=05e2aa902893d40d2ea7b538917738f6\", '/content/drive/My Drive/Fooocus/models/checkpoints/epicphotogasm_lastUnicorn.safetensors')"
   ]
  },
  {
   "cell_type": "code",
   "execution_count": null,
   "metadata": {},
   "outputs": [],
   "source": [
    "!python entry_with_update.py --share"
   ]
  },
  {
   "cell_type": "code",
   "execution_count": null,
   "metadata": {},
   "outputs": [],
   "source": [
    "!zip -r /content/output.zip /content/Fooocus/outputs/"
   ]
  }
 ],
 "metadata": {
  "language_info": {
   "name": "python"
  },
  "orig_nbformat": 4
 },
 "nbformat": 4,
 "nbformat_minor": 2
}
